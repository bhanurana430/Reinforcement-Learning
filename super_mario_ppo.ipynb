{
 "cells": [
  {
   "cell_type": "code",
   "execution_count": 5,
   "metadata": {},
   "outputs": [
    {
     "name": "stdout",
     "output_type": "stream",
     "text": [
      "Defaulting to user installation because normal site-packages is not writeable\n",
      "Requirement already satisfied: gym_super_mario_bros in /home/bhanu430/.local/lib/python3.12/site-packages (7.3.0)\n",
      "Requirement already satisfied: nes_py in /home/bhanu430/.local/lib/python3.12/site-packages (8.2.1)\n",
      "Requirement already satisfied: gym in /home/bhanu430/.local/lib/python3.12/site-packages (0.22.0)\n",
      "Requirement already satisfied: numpy>=1.18.5 in /home/bhanu430/.local/lib/python3.12/site-packages (from nes_py) (1.26.4)\n",
      "Requirement already satisfied: pyglet<=1.5.21,>=1.4.0 in /home/bhanu430/.local/lib/python3.12/site-packages (from nes_py) (1.5.21)\n",
      "Requirement already satisfied: tqdm>=4.48.2 in /home/bhanu430/.local/lib/python3.12/site-packages (from nes_py) (4.67.1)\n",
      "Requirement already satisfied: cloudpickle>=1.2.0 in /home/bhanu430/.local/lib/python3.12/site-packages (from gym) (3.1.0)\n",
      "Requirement already satisfied: gym_notices>=0.0.4 in /home/bhanu430/.local/lib/python3.12/site-packages (from gym) (0.0.8)\n",
      "Note: you may need to restart the kernel to use updated packages.\n"
     ]
    }
   ],
   "source": [
    "#Install Mario ENV\n",
    "%pip install gym_super_mario_bros nes_py gym --break-system-packages\n",
    "\n",
    "\n",
    "#https://pypi.org/project/gym-super-mario-bros/"
   ]
  },
  {
   "cell_type": "code",
   "execution_count": 6,
   "metadata": {},
   "outputs": [],
   "source": [
    "#Imports\n",
    "import gym_super_mario_bros\n",
    "import gym\n",
    "\n",
    "# Import the Joypad wrapper\n",
    "# https://pypi.org/project/nes-py/\n",
    "from nes_py.wrappers import JoypadSpace\n",
    "\n",
    "# Import the SIMPLIFIED controls\n",
    "from gym_super_mario_bros.actions import SIMPLE_MOVEMENT"
   ]
  },
  {
   "cell_type": "code",
   "execution_count": 7,
   "metadata": {},
   "outputs": [
    {
     "name": "stdout",
     "output_type": "stream",
     "text": [
      "Discrete(256)\n",
      "Discrete(7)\n",
      "(240, 256, 3)\n"
     ]
    }
   ],
   "source": [
    "#Creating the mario environment\n",
    "env = gym.make('SuperMarioBros-v3')\n",
    "\n",
    "#Total Actions available\n",
    "print(env.action_space)\n",
    "\n",
    "#Simple Actions - Easier Training\n",
    "env = JoypadSpace(env, SIMPLE_MOVEMENT)\n",
    "print(env.action_space)\n",
    "\n",
    "#State shape\n",
    "#240*256 pixels, 3 color channels\n",
    "print(env.observation_space.shape)"
   ]
  },
  {
   "cell_type": "code",
   "execution_count": null,
   "metadata": {},
   "outputs": [
    {
     "data": {
      "text/plain": [
       "(240, 256, 3)"
      ]
     },
     "execution_count": 8,
     "metadata": {},
     "output_type": "execute_result"
    }
   ],
   "source": [
    "#State rep\n",
    "i_state = env.reset()\n",
    "i_state.shape"
   ]
  },
  {
   "cell_type": "code",
   "execution_count": 9,
   "metadata": {},
   "outputs": [],
   "source": [
    "#Testing env\n",
    "done = True\n",
    "truncated = True\n",
    "for step in range(10):\n",
    "    if done:\n",
    "        env.reset()\n",
    "    state, reward, done, info= env.step(env.action_space.sample())\n",
    "    env.render()\n",
    "\n",
    "env.close()"
   ]
  },
  {
   "cell_type": "code",
   "execution_count": null,
   "metadata": {},
   "outputs": [
    {
     "ename": "",
     "evalue": "",
     "output_type": "error",
     "traceback": [
      "\u001b[1;31mThe Kernel crashed while executing code in the current cell or a previous cell. \n",
      "\u001b[1;31mPlease review the code in the cell(s) to identify a possible cause of the failure. \n",
      "\u001b[1;31mClick <a href='https://aka.ms/vscodeJupyterKernelCrash'>here</a> for more info. \n",
      "\u001b[1;31mView Jupyter <a href='command:jupyter.viewOutput'>log</a> for further details."
     ]
    }
   ],
   "source": [
    "\n"
   ]
  },
  {
   "cell_type": "code",
   "execution_count": null,
   "metadata": {},
   "outputs": [],
   "source": []
  }
 ],
 "metadata": {
  "kernelspec": {
   "display_name": "Python 3",
   "language": "python",
   "name": "python3"
  },
  "language_info": {
   "codemirror_mode": {
    "name": "ipython",
    "version": 3
   },
   "file_extension": ".py",
   "mimetype": "text/x-python",
   "name": "python",
   "nbconvert_exporter": "python",
   "pygments_lexer": "ipython3",
   "version": "3.12.7"
  }
 },
 "nbformat": 4,
 "nbformat_minor": 2
}
